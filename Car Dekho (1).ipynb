{
 "cells": [
  {
   "cell_type": "markdown",
   "metadata": {},
   "source": [
    "## Data Science Regression Project: CarDekho Price Prediction\n",
    "\n",
    "### Loading Required Libraries"
   ]
  },
  {
   "cell_type": "code",
   "execution_count": 1,
   "metadata": {},
   "outputs": [],
   "source": [
    "import numpy as np\n",
    "import pandas as pd\n",
    "import seaborn as sns\n",
    "import matplotlib.pyplot as plt\n",
    "\n",
    "from sklearn.ensemble import ExtraTreesRegressor, RandomForestRegressor\n",
    "from lightgbm import LGBMRegressor\n",
    "from xgboost import XGBRegressor, XGBRFRegressor\n",
    "\n",
    "from sklearn.model_selection import cross_val_score\n",
    "from sklearn.metrics import mean_squared_error, make_scorer, r2_score\n",
    "\n",
    "from bayes_opt import BayesianOptimization\n",
    "from bayes_opt.util import Colours"
   ]
  },
  {
   "cell_type": "code",
   "execution_count": 2,
   "metadata": {},
   "outputs": [],
   "source": [
    "df1 = pd.read_csv('E:\\Car Data.csv')"
   ]
  },
  {
   "cell_type": "code",
   "execution_count": 3,
   "metadata": {},
   "outputs": [
    {
     "name": "stdout",
     "output_type": "stream",
     "text": [
      "<class 'pandas.core.frame.DataFrame'>\n",
      "RangeIndex: 301 entries, 0 to 300\n",
      "Data columns (total 9 columns):\n",
      " #   Column         Non-Null Count  Dtype  \n",
      "---  ------         --------------  -----  \n",
      " 0   Car_Name       301 non-null    object \n",
      " 1   Year           301 non-null    int64  \n",
      " 2   Selling_Price  301 non-null    float64\n",
      " 3   Present_Price  301 non-null    float64\n",
      " 4   Kms_Driven     301 non-null    int64  \n",
      " 5   Fuel_Type      301 non-null    object \n",
      " 6   Seller_Type    301 non-null    object \n",
      " 7   Transmission   301 non-null    object \n",
      " 8   Owner          301 non-null    int64  \n",
      "dtypes: float64(2), int64(3), object(4)\n",
      "memory usage: 21.3+ KB\n"
     ]
    }
   ],
   "source": [
    "df1.info()"
   ]
  },
  {
   "cell_type": "code",
   "execution_count": 4,
   "metadata": {},
   "outputs": [
    {
     "data": {
      "text/html": [
       "<div>\n",
       "<style scoped>\n",
       "    .dataframe tbody tr th:only-of-type {\n",
       "        vertical-align: middle;\n",
       "    }\n",
       "\n",
       "    .dataframe tbody tr th {\n",
       "        vertical-align: top;\n",
       "    }\n",
       "\n",
       "    .dataframe thead th {\n",
       "        text-align: right;\n",
       "    }\n",
       "</style>\n",
       "<table border=\"1\" class=\"dataframe\">\n",
       "  <thead>\n",
       "    <tr style=\"text-align: right;\">\n",
       "      <th></th>\n",
       "      <th>Year</th>\n",
       "      <th>Selling_Price</th>\n",
       "      <th>Present_Price</th>\n",
       "      <th>Kms_Driven</th>\n",
       "      <th>Owner</th>\n",
       "    </tr>\n",
       "  </thead>\n",
       "  <tbody>\n",
       "    <tr>\n",
       "      <th>count</th>\n",
       "      <td>301.000000</td>\n",
       "      <td>301.000000</td>\n",
       "      <td>301.000000</td>\n",
       "      <td>301.000000</td>\n",
       "      <td>301.000000</td>\n",
       "    </tr>\n",
       "    <tr>\n",
       "      <th>mean</th>\n",
       "      <td>2013.627907</td>\n",
       "      <td>4.661296</td>\n",
       "      <td>7.628472</td>\n",
       "      <td>36947.205980</td>\n",
       "      <td>0.043189</td>\n",
       "    </tr>\n",
       "    <tr>\n",
       "      <th>std</th>\n",
       "      <td>2.891554</td>\n",
       "      <td>5.082812</td>\n",
       "      <td>8.644115</td>\n",
       "      <td>38886.883882</td>\n",
       "      <td>0.247915</td>\n",
       "    </tr>\n",
       "    <tr>\n",
       "      <th>min</th>\n",
       "      <td>2003.000000</td>\n",
       "      <td>0.100000</td>\n",
       "      <td>0.320000</td>\n",
       "      <td>500.000000</td>\n",
       "      <td>0.000000</td>\n",
       "    </tr>\n",
       "    <tr>\n",
       "      <th>25%</th>\n",
       "      <td>2012.000000</td>\n",
       "      <td>0.900000</td>\n",
       "      <td>1.200000</td>\n",
       "      <td>15000.000000</td>\n",
       "      <td>0.000000</td>\n",
       "    </tr>\n",
       "    <tr>\n",
       "      <th>50%</th>\n",
       "      <td>2014.000000</td>\n",
       "      <td>3.600000</td>\n",
       "      <td>6.400000</td>\n",
       "      <td>32000.000000</td>\n",
       "      <td>0.000000</td>\n",
       "    </tr>\n",
       "    <tr>\n",
       "      <th>75%</th>\n",
       "      <td>2016.000000</td>\n",
       "      <td>6.000000</td>\n",
       "      <td>9.900000</td>\n",
       "      <td>48767.000000</td>\n",
       "      <td>0.000000</td>\n",
       "    </tr>\n",
       "    <tr>\n",
       "      <th>max</th>\n",
       "      <td>2018.000000</td>\n",
       "      <td>35.000000</td>\n",
       "      <td>92.600000</td>\n",
       "      <td>500000.000000</td>\n",
       "      <td>3.000000</td>\n",
       "    </tr>\n",
       "  </tbody>\n",
       "</table>\n",
       "</div>"
      ],
      "text/plain": [
       "              Year  Selling_Price  Present_Price     Kms_Driven       Owner\n",
       "count   301.000000     301.000000     301.000000     301.000000  301.000000\n",
       "mean   2013.627907       4.661296       7.628472   36947.205980    0.043189\n",
       "std       2.891554       5.082812       8.644115   38886.883882    0.247915\n",
       "min    2003.000000       0.100000       0.320000     500.000000    0.000000\n",
       "25%    2012.000000       0.900000       1.200000   15000.000000    0.000000\n",
       "50%    2014.000000       3.600000       6.400000   32000.000000    0.000000\n",
       "75%    2016.000000       6.000000       9.900000   48767.000000    0.000000\n",
       "max    2018.000000      35.000000      92.600000  500000.000000    3.000000"
      ]
     },
     "execution_count": 4,
     "metadata": {},
     "output_type": "execute_result"
    }
   ],
   "source": [
    "df1.describe()"
   ]
  },
  {
   "cell_type": "code",
   "execution_count": 5,
   "metadata": {},
   "outputs": [
    {
     "data": {
      "text/html": [
       "<div>\n",
       "<style scoped>\n",
       "    .dataframe tbody tr th:only-of-type {\n",
       "        vertical-align: middle;\n",
       "    }\n",
       "\n",
       "    .dataframe tbody tr th {\n",
       "        vertical-align: top;\n",
       "    }\n",
       "\n",
       "    .dataframe thead th {\n",
       "        text-align: right;\n",
       "    }\n",
       "</style>\n",
       "<table border=\"1\" class=\"dataframe\">\n",
       "  <thead>\n",
       "    <tr style=\"text-align: right;\">\n",
       "      <th></th>\n",
       "      <th>Car_Name</th>\n",
       "      <th>Year</th>\n",
       "      <th>Selling_Price</th>\n",
       "      <th>Present_Price</th>\n",
       "      <th>Kms_Driven</th>\n",
       "      <th>Fuel_Type</th>\n",
       "      <th>Seller_Type</th>\n",
       "      <th>Transmission</th>\n",
       "      <th>Owner</th>\n",
       "    </tr>\n",
       "  </thead>\n",
       "  <tbody>\n",
       "    <tr>\n",
       "      <th>0</th>\n",
       "      <td>ritz</td>\n",
       "      <td>2014</td>\n",
       "      <td>3.35</td>\n",
       "      <td>5.59</td>\n",
       "      <td>27000</td>\n",
       "      <td>Petrol</td>\n",
       "      <td>Dealer</td>\n",
       "      <td>Manual</td>\n",
       "      <td>0</td>\n",
       "    </tr>\n",
       "    <tr>\n",
       "      <th>1</th>\n",
       "      <td>sx4</td>\n",
       "      <td>2013</td>\n",
       "      <td>4.75</td>\n",
       "      <td>9.54</td>\n",
       "      <td>43000</td>\n",
       "      <td>Diesel</td>\n",
       "      <td>Dealer</td>\n",
       "      <td>Manual</td>\n",
       "      <td>0</td>\n",
       "    </tr>\n",
       "    <tr>\n",
       "      <th>2</th>\n",
       "      <td>ciaz</td>\n",
       "      <td>2017</td>\n",
       "      <td>7.25</td>\n",
       "      <td>9.85</td>\n",
       "      <td>6900</td>\n",
       "      <td>Petrol</td>\n",
       "      <td>Dealer</td>\n",
       "      <td>Manual</td>\n",
       "      <td>0</td>\n",
       "    </tr>\n",
       "    <tr>\n",
       "      <th>3</th>\n",
       "      <td>wagon r</td>\n",
       "      <td>2011</td>\n",
       "      <td>2.85</td>\n",
       "      <td>4.15</td>\n",
       "      <td>5200</td>\n",
       "      <td>Petrol</td>\n",
       "      <td>Dealer</td>\n",
       "      <td>Manual</td>\n",
       "      <td>0</td>\n",
       "    </tr>\n",
       "    <tr>\n",
       "      <th>4</th>\n",
       "      <td>swift</td>\n",
       "      <td>2014</td>\n",
       "      <td>4.60</td>\n",
       "      <td>6.87</td>\n",
       "      <td>42450</td>\n",
       "      <td>Diesel</td>\n",
       "      <td>Dealer</td>\n",
       "      <td>Manual</td>\n",
       "      <td>0</td>\n",
       "    </tr>\n",
       "  </tbody>\n",
       "</table>\n",
       "</div>"
      ],
      "text/plain": [
       "  Car_Name  Year  Selling_Price  Present_Price  Kms_Driven Fuel_Type  \\\n",
       "0     ritz  2014           3.35           5.59       27000    Petrol   \n",
       "1      sx4  2013           4.75           9.54       43000    Diesel   \n",
       "2     ciaz  2017           7.25           9.85        6900    Petrol   \n",
       "3  wagon r  2011           2.85           4.15        5200    Petrol   \n",
       "4    swift  2014           4.60           6.87       42450    Diesel   \n",
       "\n",
       "  Seller_Type Transmission  Owner  \n",
       "0      Dealer       Manual      0  \n",
       "1      Dealer       Manual      0  \n",
       "2      Dealer       Manual      0  \n",
       "3      Dealer       Manual      0  \n",
       "4      Dealer       Manual      0  "
      ]
     },
     "execution_count": 5,
     "metadata": {},
     "output_type": "execute_result"
    }
   ],
   "source": [
    "df1.head()"
   ]
  },
  {
   "cell_type": "code",
   "execution_count": 6,
   "metadata": {},
   "outputs": [
    {
     "data": {
      "text/plain": [
       "98"
      ]
     },
     "execution_count": 6,
     "metadata": {},
     "output_type": "execute_result"
    }
   ],
   "source": [
    "len(df1.Car_Name.unique())"
   ]
  },
  {
   "cell_type": "markdown",
   "metadata": {},
   "source": [
    "## Feature Engineering\n",
    "\n",
    "### Label Encoding"
   ]
  },
  {
   "cell_type": "code",
   "execution_count": 7,
   "metadata": {},
   "outputs": [
    {
     "data": {
      "text/html": [
       "<div>\n",
       "<style scoped>\n",
       "    .dataframe tbody tr th:only-of-type {\n",
       "        vertical-align: middle;\n",
       "    }\n",
       "\n",
       "    .dataframe tbody tr th {\n",
       "        vertical-align: top;\n",
       "    }\n",
       "\n",
       "    .dataframe thead th {\n",
       "        text-align: right;\n",
       "    }\n",
       "</style>\n",
       "<table border=\"1\" class=\"dataframe\">\n",
       "  <thead>\n",
       "    <tr style=\"text-align: right;\">\n",
       "      <th></th>\n",
       "      <th>Car_Name</th>\n",
       "      <th>Year</th>\n",
       "      <th>Selling_Price</th>\n",
       "      <th>Present_Price</th>\n",
       "      <th>Kms_Driven</th>\n",
       "      <th>Fuel_Type</th>\n",
       "      <th>Seller_Type</th>\n",
       "      <th>Transmission</th>\n",
       "      <th>Owner</th>\n",
       "    </tr>\n",
       "  </thead>\n",
       "  <tbody>\n",
       "    <tr>\n",
       "      <th>0</th>\n",
       "      <td>90</td>\n",
       "      <td>11</td>\n",
       "      <td>3.35</td>\n",
       "      <td>5.59</td>\n",
       "      <td>27000</td>\n",
       "      <td>Petrol</td>\n",
       "      <td>Dealer</td>\n",
       "      <td>Manual</td>\n",
       "      <td>0</td>\n",
       "    </tr>\n",
       "    <tr>\n",
       "      <th>1</th>\n",
       "      <td>93</td>\n",
       "      <td>10</td>\n",
       "      <td>4.75</td>\n",
       "      <td>9.54</td>\n",
       "      <td>43000</td>\n",
       "      <td>Diesel</td>\n",
       "      <td>Dealer</td>\n",
       "      <td>Manual</td>\n",
       "      <td>0</td>\n",
       "    </tr>\n",
       "    <tr>\n",
       "      <th>2</th>\n",
       "      <td>68</td>\n",
       "      <td>14</td>\n",
       "      <td>7.25</td>\n",
       "      <td>9.85</td>\n",
       "      <td>6900</td>\n",
       "      <td>Petrol</td>\n",
       "      <td>Dealer</td>\n",
       "      <td>Manual</td>\n",
       "      <td>0</td>\n",
       "    </tr>\n",
       "    <tr>\n",
       "      <th>3</th>\n",
       "      <td>96</td>\n",
       "      <td>8</td>\n",
       "      <td>2.85</td>\n",
       "      <td>4.15</td>\n",
       "      <td>5200</td>\n",
       "      <td>Petrol</td>\n",
       "      <td>Dealer</td>\n",
       "      <td>Manual</td>\n",
       "      <td>0</td>\n",
       "    </tr>\n",
       "    <tr>\n",
       "      <th>4</th>\n",
       "      <td>92</td>\n",
       "      <td>11</td>\n",
       "      <td>4.60</td>\n",
       "      <td>6.87</td>\n",
       "      <td>42450</td>\n",
       "      <td>Diesel</td>\n",
       "      <td>Dealer</td>\n",
       "      <td>Manual</td>\n",
       "      <td>0</td>\n",
       "    </tr>\n",
       "  </tbody>\n",
       "</table>\n",
       "</div>"
      ],
      "text/plain": [
       "   Car_Name  Year  Selling_Price  Present_Price  Kms_Driven Fuel_Type  \\\n",
       "0        90    11           3.35           5.59       27000    Petrol   \n",
       "1        93    10           4.75           9.54       43000    Diesel   \n",
       "2        68    14           7.25           9.85        6900    Petrol   \n",
       "3        96     8           2.85           4.15        5200    Petrol   \n",
       "4        92    11           4.60           6.87       42450    Diesel   \n",
       "\n",
       "  Seller_Type Transmission  Owner  \n",
       "0      Dealer       Manual      0  \n",
       "1      Dealer       Manual      0  \n",
       "2      Dealer       Manual      0  \n",
       "3      Dealer       Manual      0  \n",
       "4      Dealer       Manual      0  "
      ]
     },
     "execution_count": 7,
     "metadata": {},
     "output_type": "execute_result"
    }
   ],
   "source": [
    "cat1 = ['Car_Name','Year']\n",
    "from sklearn.preprocessing import LabelEncoder\n",
    "le =LabelEncoder()\n",
    "for items in cat1:\n",
    "    df1[items]=le.fit_transform(df1[items])\n",
    "df1.head()"
   ]
  },
  {
   "cell_type": "markdown",
   "metadata": {},
   "source": [
    "### Creating Dummy Variables"
   ]
  },
  {
   "cell_type": "code",
   "execution_count": 8,
   "metadata": {},
   "outputs": [
    {
     "data": {
      "text/html": [
       "<div>\n",
       "<style scoped>\n",
       "    .dataframe tbody tr th:only-of-type {\n",
       "        vertical-align: middle;\n",
       "    }\n",
       "\n",
       "    .dataframe tbody tr th {\n",
       "        vertical-align: top;\n",
       "    }\n",
       "\n",
       "    .dataframe thead th {\n",
       "        text-align: right;\n",
       "    }\n",
       "</style>\n",
       "<table border=\"1\" class=\"dataframe\">\n",
       "  <thead>\n",
       "    <tr style=\"text-align: right;\">\n",
       "      <th></th>\n",
       "      <th>Car_Name</th>\n",
       "      <th>Year</th>\n",
       "      <th>Selling_Price</th>\n",
       "      <th>Present_Price</th>\n",
       "      <th>Kms_Driven</th>\n",
       "      <th>Owner</th>\n",
       "      <th>Automatic</th>\n",
       "      <th>CNG</th>\n",
       "      <th>Dealer</th>\n",
       "      <th>Diesel</th>\n",
       "      <th>Individual</th>\n",
       "      <th>Manual</th>\n",
       "      <th>Petrol</th>\n",
       "    </tr>\n",
       "  </thead>\n",
       "  <tbody>\n",
       "    <tr>\n",
       "      <th>0</th>\n",
       "      <td>90</td>\n",
       "      <td>11</td>\n",
       "      <td>3.35</td>\n",
       "      <td>5.59</td>\n",
       "      <td>27000</td>\n",
       "      <td>0</td>\n",
       "      <td>0</td>\n",
       "      <td>0</td>\n",
       "      <td>1</td>\n",
       "      <td>0</td>\n",
       "      <td>0</td>\n",
       "      <td>1</td>\n",
       "      <td>1</td>\n",
       "    </tr>\n",
       "    <tr>\n",
       "      <th>1</th>\n",
       "      <td>93</td>\n",
       "      <td>10</td>\n",
       "      <td>4.75</td>\n",
       "      <td>9.54</td>\n",
       "      <td>43000</td>\n",
       "      <td>0</td>\n",
       "      <td>0</td>\n",
       "      <td>0</td>\n",
       "      <td>1</td>\n",
       "      <td>1</td>\n",
       "      <td>0</td>\n",
       "      <td>1</td>\n",
       "      <td>0</td>\n",
       "    </tr>\n",
       "    <tr>\n",
       "      <th>2</th>\n",
       "      <td>68</td>\n",
       "      <td>14</td>\n",
       "      <td>7.25</td>\n",
       "      <td>9.85</td>\n",
       "      <td>6900</td>\n",
       "      <td>0</td>\n",
       "      <td>0</td>\n",
       "      <td>0</td>\n",
       "      <td>1</td>\n",
       "      <td>0</td>\n",
       "      <td>0</td>\n",
       "      <td>1</td>\n",
       "      <td>1</td>\n",
       "    </tr>\n",
       "    <tr>\n",
       "      <th>3</th>\n",
       "      <td>96</td>\n",
       "      <td>8</td>\n",
       "      <td>2.85</td>\n",
       "      <td>4.15</td>\n",
       "      <td>5200</td>\n",
       "      <td>0</td>\n",
       "      <td>0</td>\n",
       "      <td>0</td>\n",
       "      <td>1</td>\n",
       "      <td>0</td>\n",
       "      <td>0</td>\n",
       "      <td>1</td>\n",
       "      <td>1</td>\n",
       "    </tr>\n",
       "    <tr>\n",
       "      <th>4</th>\n",
       "      <td>92</td>\n",
       "      <td>11</td>\n",
       "      <td>4.60</td>\n",
       "      <td>6.87</td>\n",
       "      <td>42450</td>\n",
       "      <td>0</td>\n",
       "      <td>0</td>\n",
       "      <td>0</td>\n",
       "      <td>1</td>\n",
       "      <td>1</td>\n",
       "      <td>0</td>\n",
       "      <td>1</td>\n",
       "      <td>0</td>\n",
       "    </tr>\n",
       "  </tbody>\n",
       "</table>\n",
       "</div>"
      ],
      "text/plain": [
       "   Car_Name  Year  Selling_Price  Present_Price  Kms_Driven  Owner  Automatic  \\\n",
       "0        90    11           3.35           5.59       27000      0          0   \n",
       "1        93    10           4.75           9.54       43000      0          0   \n",
       "2        68    14           7.25           9.85        6900      0          0   \n",
       "3        96     8           2.85           4.15        5200      0          0   \n",
       "4        92    11           4.60           6.87       42450      0          0   \n",
       "\n",
       "   CNG  Dealer  Diesel  Individual  Manual  Petrol  \n",
       "0    0       1       0           0       1       1  \n",
       "1    0       1       1           0       1       0  \n",
       "2    0       1       0           0       1       1  \n",
       "3    0       1       0           0       1       1  \n",
       "4    0       1       1           0       1       0  "
      ]
     },
     "execution_count": 8,
     "metadata": {},
     "output_type": "execute_result"
    }
   ],
   "source": [
    "cat2 = df1[['Fuel_Type','Seller_Type','Transmission']]\n",
    "def dummy(df):\n",
    "    dum=cat2\n",
    "    dum=cat2.astype(str)\n",
    "    dummy = dum.stack().str.get_dummies().sum(level=0)\n",
    "    dummy = dummy.astype(int)\n",
    "    df = pd.concat([df,dummy], axis=1)\n",
    "    df.drop(['Fuel_Type','Seller_Type','Transmission'], axis=1, inplace=True)\n",
    "    return df\n",
    "df2 = dummy(df1)\n",
    "df2.head()"
   ]
  },
  {
   "cell_type": "markdown",
   "metadata": {},
   "source": [
    "## Transforming the column with greater values to reduce the complexcity"
   ]
  },
  {
   "cell_type": "code",
   "execution_count": 9,
   "metadata": {},
   "outputs": [
    {
     "data": {
      "text/html": [
       "<div>\n",
       "<style scoped>\n",
       "    .dataframe tbody tr th:only-of-type {\n",
       "        vertical-align: middle;\n",
       "    }\n",
       "\n",
       "    .dataframe tbody tr th {\n",
       "        vertical-align: top;\n",
       "    }\n",
       "\n",
       "    .dataframe thead th {\n",
       "        text-align: right;\n",
       "    }\n",
       "</style>\n",
       "<table border=\"1\" class=\"dataframe\">\n",
       "  <thead>\n",
       "    <tr style=\"text-align: right;\">\n",
       "      <th></th>\n",
       "      <th>Car_Name</th>\n",
       "      <th>Year</th>\n",
       "      <th>Selling_Price</th>\n",
       "      <th>Present_Price</th>\n",
       "      <th>Kms_Driven</th>\n",
       "      <th>Owner</th>\n",
       "      <th>Automatic</th>\n",
       "      <th>CNG</th>\n",
       "      <th>Dealer</th>\n",
       "      <th>Diesel</th>\n",
       "      <th>Individual</th>\n",
       "      <th>Manual</th>\n",
       "      <th>Petrol</th>\n",
       "    </tr>\n",
       "  </thead>\n",
       "  <tbody>\n",
       "    <tr>\n",
       "      <th>0</th>\n",
       "      <td>90</td>\n",
       "      <td>11</td>\n",
       "      <td>3.35</td>\n",
       "      <td>5.59</td>\n",
       "      <td>164.316767</td>\n",
       "      <td>0</td>\n",
       "      <td>0</td>\n",
       "      <td>0</td>\n",
       "      <td>1</td>\n",
       "      <td>0</td>\n",
       "      <td>0</td>\n",
       "      <td>1</td>\n",
       "      <td>1</td>\n",
       "    </tr>\n",
       "    <tr>\n",
       "      <th>1</th>\n",
       "      <td>93</td>\n",
       "      <td>10</td>\n",
       "      <td>4.75</td>\n",
       "      <td>9.54</td>\n",
       "      <td>207.364414</td>\n",
       "      <td>0</td>\n",
       "      <td>0</td>\n",
       "      <td>0</td>\n",
       "      <td>1</td>\n",
       "      <td>1</td>\n",
       "      <td>0</td>\n",
       "      <td>1</td>\n",
       "      <td>0</td>\n",
       "    </tr>\n",
       "    <tr>\n",
       "      <th>2</th>\n",
       "      <td>68</td>\n",
       "      <td>14</td>\n",
       "      <td>7.25</td>\n",
       "      <td>9.85</td>\n",
       "      <td>83.066239</td>\n",
       "      <td>0</td>\n",
       "      <td>0</td>\n",
       "      <td>0</td>\n",
       "      <td>1</td>\n",
       "      <td>0</td>\n",
       "      <td>0</td>\n",
       "      <td>1</td>\n",
       "      <td>1</td>\n",
       "    </tr>\n",
       "    <tr>\n",
       "      <th>3</th>\n",
       "      <td>96</td>\n",
       "      <td>8</td>\n",
       "      <td>2.85</td>\n",
       "      <td>4.15</td>\n",
       "      <td>72.111026</td>\n",
       "      <td>0</td>\n",
       "      <td>0</td>\n",
       "      <td>0</td>\n",
       "      <td>1</td>\n",
       "      <td>0</td>\n",
       "      <td>0</td>\n",
       "      <td>1</td>\n",
       "      <td>1</td>\n",
       "    </tr>\n",
       "    <tr>\n",
       "      <th>4</th>\n",
       "      <td>92</td>\n",
       "      <td>11</td>\n",
       "      <td>4.60</td>\n",
       "      <td>6.87</td>\n",
       "      <td>206.033978</td>\n",
       "      <td>0</td>\n",
       "      <td>0</td>\n",
       "      <td>0</td>\n",
       "      <td>1</td>\n",
       "      <td>1</td>\n",
       "      <td>0</td>\n",
       "      <td>1</td>\n",
       "      <td>0</td>\n",
       "    </tr>\n",
       "  </tbody>\n",
       "</table>\n",
       "</div>"
      ],
      "text/plain": [
       "   Car_Name  Year  Selling_Price  Present_Price  Kms_Driven  Owner  Automatic  \\\n",
       "0        90    11           3.35           5.59  164.316767      0          0   \n",
       "1        93    10           4.75           9.54  207.364414      0          0   \n",
       "2        68    14           7.25           9.85   83.066239      0          0   \n",
       "3        96     8           2.85           4.15   72.111026      0          0   \n",
       "4        92    11           4.60           6.87  206.033978      0          0   \n",
       "\n",
       "   CNG  Dealer  Diesel  Individual  Manual  Petrol  \n",
       "0    0       1       0           0       1       1  \n",
       "1    0       1       1           0       1       0  \n",
       "2    0       1       0           0       1       1  \n",
       "3    0       1       0           0       1       1  \n",
       "4    0       1       1           0       1       0  "
      ]
     },
     "execution_count": 9,
     "metadata": {},
     "output_type": "execute_result"
    }
   ],
   "source": [
    "df2['Kms_Driven'] = np.sqrt(df2['Kms_Driven'])\n",
    "df2.head()"
   ]
  },
  {
   "cell_type": "code",
   "execution_count": 10,
   "metadata": {},
   "outputs": [],
   "source": [
    "y = df2['Selling_Price'].values\n",
    "df3 = df2.drop(columns=['Selling_Price'])\n",
    "x = df3.values"
   ]
  },
  {
   "cell_type": "code",
   "execution_count": 11,
   "metadata": {},
   "outputs": [
    {
     "data": {
      "text/plain": [
       "<matplotlib.axes._subplots.AxesSubplot at 0x2061568c448>"
      ]
     },
     "execution_count": 11,
     "metadata": {},
     "output_type": "execute_result"
    },
    {
     "data": {
      "image/png": "[encoded data removed]",
      "text/plain": [
       "<Figure size 864x576 with 2 Axes>"
      ]
     },
     "metadata": {
      "needs_background": "light"
     },
     "output_type": "display_data"
    }
   ],
   "source": [
    "plt.figure(figsize=(12,8))\n",
    "sns.heatmap(df2.corr(), annot=True)"
   ]
  },
  {
   "cell_type": "markdown",
   "metadata": {},
   "source": [
    "### Defining Metric"
   ]
  },
  {
   "cell_type": "code",
   "execution_count": 12,
   "metadata": {},
   "outputs": [],
   "source": [
    "def RMSE(y_true,y_pred):\n",
    "    return np.sqrt(mean_squared_error(y_true,y_pred))\n",
    "rmse = make_scorer(RMSE, greater_is_better=False)"
   ]
  },
  {
   "cell_type": "code",
   "execution_count": 13,
   "metadata": {},
   "outputs": [],
   "source": [
    "from sklearn.model_selection import train_test_split\n",
    "X_train, X_test, y_train, y_test = train_test_split(\n",
    "          x, y, test_size=0.2, random_state=42)"
   ]
  },
  {
   "cell_type": "markdown",
   "metadata": {},
   "source": [
    "### Hyperparameter tuning of ExtremeGradientBoosting Regressor using Bayesian optimization"
   ]
  },
  {
   "cell_type": "code",
   "execution_count": 14,
   "metadata": {},
   "outputs": [],
   "source": [
    "def xgb_cv(n_estimators, max_depth, gamma, min_child_weight, subsample, data, target):\n",
    "    estimator = XGBRegressor(\n",
    "            n_estimators=n_estimators,\n",
    "            gamma=gamma,\n",
    "            min_child_weight=min_child_weight,\n",
    "            subsample=subsample,\n",
    "            random_state=2\n",
    "    )\n",
    "    cval = cross_val_score(estimator, data, target, scoring=rmse, cv=5)\n",
    "    \n",
    "    return cval.mean()"
   ]
  },
  {
   "cell_type": "code",
   "execution_count": 15,
   "metadata": {},
   "outputs": [],
   "source": [
    "def optimize_xgb(data, target):\n",
    "    def xgb_crossval(n_estimators, max_depth, gamma, min_child_weight, subsample):\n",
    "        return xgb_cv(\n",
    "            n_estimators=int(n_estimators),\n",
    "            max_depth=int(max_depth),\n",
    "            gamma=gamma,\n",
    "            min_child_weight=min_child_weight,\n",
    "            subsample=subsample,\n",
    "            data=data,\n",
    "            target=target,\n",
    "        )\n",
    "    optimizer = BayesianOptimization(\n",
    "            f=xgb_crossval,\n",
    "            pbounds={\n",
    "                \"n_estimators\":(100,550),\n",
    "                \"max_depth\": (1,20),\n",
    "                \"gamma\":(0,10),\n",
    "                \"min_child_weight\":(0,10),\n",
    "                \"subsample\":(0.8,1.0)\n",
    "                },\n",
    "            random_state=1234,\n",
    "            verbose=2\n",
    "      )\n",
    "    optimizer.maximize(n_iter=15 , init_points=10)\n",
    "    \n",
    "    \n",
    "    print('Final Result:', optimizer.max)"
   ]
  },
  {
   "cell_type": "code",
   "execution_count": 16,
   "metadata": {},
   "outputs": [
    {
     "name": "stdout",
     "output_type": "stream",
     "text": [
      "\u001b[91m--- Optimizing XGBoost ---\u001b[0m\n",
      "|   iter    |  target   |   gamma   | max_depth | min_ch... | n_esti... | subsample |\n",
      "-------------------------------------------------------------------------------------\n",
      "| \u001b[0m 1       \u001b[0m | \u001b[0m-1.731   \u001b[0m | \u001b[0m 1.915   \u001b[0m | \u001b[0m 12.82   \u001b[0m | \u001b[0m 4.377   \u001b[0m | \u001b[0m 453.4   \u001b[0m | \u001b[0m 0.956   \u001b[0m |\n",
      "| \u001b[0m 2       \u001b[0m | \u001b[0m-1.957   \u001b[0m | \u001b[0m 2.726   \u001b[0m | \u001b[0m 6.253   \u001b[0m | \u001b[0m 8.019   \u001b[0m | \u001b[0m 531.2   \u001b[0m | \u001b[0m 0.9752  \u001b[0m |\n",
      "| \u001b[95m 3       \u001b[0m | \u001b[95m-1.676   \u001b[0m | \u001b[95m 3.578   \u001b[0m | \u001b[95m 10.52   \u001b[0m | \u001b[95m 6.835   \u001b[0m | \u001b[95m 420.7   \u001b[0m | \u001b[95m 0.8741  \u001b[0m |\n",
      "| \u001b[95m 4       \u001b[0m | \u001b[95m-1.559   \u001b[0m | \u001b[95m 5.612   \u001b[0m | \u001b[95m 10.56   \u001b[0m | \u001b[95m 0.1377  \u001b[0m | \u001b[95m 447.8   \u001b[0m | \u001b[95m 0.9765  \u001b[0m |\n",
      "| \u001b[95m 5       \u001b[0m | \u001b[95m-1.493   \u001b[0m | \u001b[95m 3.649   \u001b[0m | \u001b[95m 12.69   \u001b[0m | \u001b[95m 0.7538  \u001b[0m | \u001b[95m 266.0   \u001b[0m | \u001b[95m 0.9866  \u001b[0m |\n",
      "| \u001b[0m 6       \u001b[0m | \u001b[0m-1.726   \u001b[0m | \u001b[0m 6.514   \u001b[0m | \u001b[0m 8.547   \u001b[0m | \u001b[0m 7.887   \u001b[0m | \u001b[0m 242.6   \u001b[0m | \u001b[0m 0.9136  \u001b[0m |\n",
      "| \u001b[0m 7       \u001b[0m | \u001b[0m-1.901   \u001b[0m | \u001b[0m 8.691   \u001b[0m | \u001b[0m 9.287   \u001b[0m | \u001b[0m 8.021   \u001b[0m | \u001b[0m 164.7   \u001b[0m | \u001b[0m 0.9409  \u001b[0m |\n",
      "| \u001b[0m 8       \u001b[0m | \u001b[0m-1.992   \u001b[0m | \u001b[0m 7.046   \u001b[0m | \u001b[0m 5.157   \u001b[0m | \u001b[0m 9.249   \u001b[0m | \u001b[0m 299.0   \u001b[0m | \u001b[0m 0.9819  \u001b[0m |\n",
      "| \u001b[0m 9       \u001b[0m | \u001b[0m-1.538   \u001b[0m | \u001b[0m 0.5981  \u001b[0m | \u001b[0m 4.501   \u001b[0m | \u001b[0m 0.4736  \u001b[0m | \u001b[0m 403.7   \u001b[0m | \u001b[0m 0.9189  \u001b[0m |\n",
      "| \u001b[0m 10      \u001b[0m | \u001b[0m-1.639   \u001b[0m | \u001b[0m 5.333   \u001b[0m | \u001b[0m 1.823   \u001b[0m | \u001b[0m 5.614   \u001b[0m | \u001b[0m 248.4   \u001b[0m | \u001b[0m 0.9006  \u001b[0m |\n",
      "| \u001b[0m 11      \u001b[0m | \u001b[0m-1.743   \u001b[0m | \u001b[0m 5.153   \u001b[0m | \u001b[0m 4.448   \u001b[0m | \u001b[0m 3.77    \u001b[0m | \u001b[0m 134.2   \u001b[0m | \u001b[0m 0.8525  \u001b[0m |\n",
      "| \u001b[0m 12      \u001b[0m | \u001b[0m-1.751   \u001b[0m | \u001b[0m 3.824   \u001b[0m | \u001b[0m 16.61   \u001b[0m | \u001b[0m 4.05    \u001b[0m | \u001b[0m 436.9   \u001b[0m | \u001b[0m 0.9551  \u001b[0m |\n",
      "| \u001b[0m 13      \u001b[0m | \u001b[0m-1.599   \u001b[0m | \u001b[0m 1.111   \u001b[0m | \u001b[0m 5.153   \u001b[0m | \u001b[0m 6.716   \u001b[0m | \u001b[0m 486.7   \u001b[0m | \u001b[0m 0.9595  \u001b[0m |\n",
      "| \u001b[0m 14      \u001b[0m | \u001b[0m-1.688   \u001b[0m | \u001b[0m 8.317   \u001b[0m | \u001b[0m 16.32   \u001b[0m | \u001b[0m 0.9797  \u001b[0m | \u001b[0m 271.3   \u001b[0m | \u001b[0m 0.9759  \u001b[0m |\n",
      "| \u001b[0m 15      \u001b[0m | \u001b[0m-1.664   \u001b[0m | \u001b[0m 3.119   \u001b[0m | \u001b[0m 9.468   \u001b[0m | \u001b[0m 1.733   \u001b[0m | \u001b[0m 266.7   \u001b[0m | \u001b[0m 0.8528  \u001b[0m |\n",
      "| \u001b[0m 16      \u001b[0m | \u001b[0m-1.796   \u001b[0m | \u001b[0m 5.787   \u001b[0m | \u001b[0m 14.57   \u001b[0m | \u001b[0m 2.673   \u001b[0m | \u001b[0m 265.8   \u001b[0m | \u001b[0m 0.9984  \u001b[0m |\n",
      "| \u001b[0m 17      \u001b[0m | \u001b[0m-1.633   \u001b[0m | \u001b[0m 5.608   \u001b[0m | \u001b[0m 7.428   \u001b[0m | \u001b[0m 5.166   \u001b[0m | \u001b[0m 522.2   \u001b[0m | \u001b[0m 0.8213  \u001b[0m |\n",
      "| \u001b[0m 18      \u001b[0m | \u001b[0m-1.689   \u001b[0m | \u001b[0m 3.565   \u001b[0m | \u001b[0m 13.02   \u001b[0m | \u001b[0m 1.204   \u001b[0m | \u001b[0m 266.1   \u001b[0m | \u001b[0m 0.9937  \u001b[0m |\n",
      "| \u001b[0m 19      \u001b[0m | \u001b[0m-1.652   \u001b[0m | \u001b[0m 3.743   \u001b[0m | \u001b[0m 9.992   \u001b[0m | \u001b[0m 1.395   \u001b[0m | \u001b[0m 266.8   \u001b[0m | \u001b[0m 0.9481  \u001b[0m |\n",
      "| \u001b[0m 20      \u001b[0m | \u001b[0m-1.74    \u001b[0m | \u001b[0m 6.385   \u001b[0m | \u001b[0m 15.03   \u001b[0m | \u001b[0m 4.344   \u001b[0m | \u001b[0m 155.0   \u001b[0m | \u001b[0m 0.8045  \u001b[0m |\n",
      "| \u001b[0m 21      \u001b[0m | \u001b[0m-1.742   \u001b[0m | \u001b[0m 3.498   \u001b[0m | \u001b[0m 8.97    \u001b[0m | \u001b[0m 1.394   \u001b[0m | \u001b[0m 266.3   \u001b[0m | \u001b[0m 0.8804  \u001b[0m |\n",
      "| \u001b[0m 22      \u001b[0m | \u001b[0m-1.685   \u001b[0m | \u001b[0m 5.987   \u001b[0m | \u001b[0m 1.882   \u001b[0m | \u001b[0m 6.001   \u001b[0m | \u001b[0m 248.6   \u001b[0m | \u001b[0m 0.8709  \u001b[0m |\n",
      "| \u001b[95m 23      \u001b[0m | \u001b[95m-1.476   \u001b[0m | \u001b[95m 0.4168  \u001b[0m | \u001b[95m 4.855   \u001b[0m | \u001b[95m 0.09169 \u001b[0m | \u001b[95m 402.6   \u001b[0m | \u001b[95m 0.8669  \u001b[0m |\n",
      "| \u001b[0m 24      \u001b[0m | \u001b[0m-1.667   \u001b[0m | \u001b[0m 5.952   \u001b[0m | \u001b[0m 7.161   \u001b[0m | \u001b[0m 6.342   \u001b[0m | \u001b[0m 523.1   \u001b[0m | \u001b[0m 0.9233  \u001b[0m |\n",
      "| \u001b[0m 25      \u001b[0m | \u001b[0m-1.526   \u001b[0m | \u001b[0m 1.064   \u001b[0m | \u001b[0m 6.583   \u001b[0m | \u001b[0m 0.414   \u001b[0m | \u001b[0m 403.9   \u001b[0m | \u001b[0m 0.8652  \u001b[0m |\n",
      "=====================================================================================\n",
      "Final Result: {'target': -1.4757955272320373, 'params': {'gamma': 0.4168039906207077, 'max_depth': 4.854619123092183, 'min_child_weight': 0.09168578683501405, 'n_estimators': 402.578338283996, 'subsample': 0.8668825905278301}}\n"
     ]
    }
   ],
   "source": [
    "print(Colours.red(\"--- Optimizing XGBoost ---\"))\n",
    "optimize_xgb(X_train, y_train)"
   ]
  },
  {
   "cell_type": "markdown",
   "metadata": {},
   "source": [
    "### Hyperparameter tuning of ExtraTreesRegressor using Bayesian optimization"
   ]
  },
  {
   "cell_type": "code",
   "execution_count": 17,
   "metadata": {},
   "outputs": [],
   "source": [
    "def etc_cv(n_estimators, min_samples_split, max_features, data, target):\n",
    "    estimator = ExtraTreesRegressor(\n",
    "            n_estimators=n_estimators,\n",
    "            min_samples_split=min_samples_split,\n",
    "            max_features=max_features,\n",
    "            random_state=2,\n",
    "            n_jobs=-1\n",
    "    )\n",
    "    cval = cross_val_score(estimator, data, target, scoring=rmse, cv=5)\n",
    "    \n",
    "    return cval.mean()"
   ]
  },
  {
   "cell_type": "code",
   "execution_count": 18,
   "metadata": {},
   "outputs": [],
   "source": [
    "def optimize_etc(data, target):\n",
    "    def etc_crossval(n_estimators, min_samples_split, max_features):\n",
    "        return etc_cv(\n",
    "                n_estimators=int(n_estimators),\n",
    "                min_samples_split=int(min_samples_split),\n",
    "                max_features=max(min(max_features, 0.999), 1e-3),\n",
    "                data=data,\n",
    "                target=target,\n",
    "                )\n",
    "    optimizer = BayesianOptimization(\n",
    "        f=etc_crossval,\n",
    "        pbounds={\n",
    "            \"n_estimators\":(100,600),\n",
    "            \"min_samples_split\":(2,25),\n",
    "            \"max_features\": (0.1,0.9)\n",
    "        },\n",
    "        random_state=42,\n",
    "        verbose=2\n",
    "    )\n",
    "    optimizer.maximize(n_iter=15, init_points=10)\n",
    "    \n",
    "    print(\"Final result:\", optimizer.max)"
   ]
  },
  {
   "cell_type": "code",
   "execution_count": 19,
   "metadata": {},
   "outputs": [
    {
     "name": "stdout",
     "output_type": "stream",
     "text": [
      "\u001b[93m--- Optimizing Extra Trees ---\u001b[0m\n",
      "|   iter    |  target   | max_fe... | min_sa... | n_esti... |\n",
      "-------------------------------------------------------------\n",
      "| \u001b[0m 1       \u001b[0m | \u001b[0m-2.382   \u001b[0m | \u001b[0m 0.3996  \u001b[0m | \u001b[0m 23.87   \u001b[0m | \u001b[0m 466.0   \u001b[0m |\n",
      "| \u001b[95m 2       \u001b[0m | \u001b[95m-1.965   \u001b[0m | \u001b[95m 0.5789  \u001b[0m | \u001b[95m 5.588   \u001b[0m | \u001b[95m 178.0   \u001b[0m |\n",
      "| \u001b[0m 3       \u001b[0m | \u001b[0m-2.649   \u001b[0m | \u001b[0m 0.1465  \u001b[0m | \u001b[0m 21.92   \u001b[0m | \u001b[0m 400.6   \u001b[0m |\n",
      "| \u001b[95m 4       \u001b[0m | \u001b[95m-1.903   \u001b[0m | \u001b[95m 0.6665  \u001b[0m | \u001b[95m 2.473   \u001b[0m | \u001b[95m 585.0   \u001b[0m |\n",
      "| \u001b[0m 5       \u001b[0m | \u001b[0m-1.939   \u001b[0m | \u001b[0m 0.766   \u001b[0m | \u001b[0m 6.884   \u001b[0m | \u001b[0m 190.9   \u001b[0m |\n",
      "| \u001b[0m 6       \u001b[0m | \u001b[0m-2.187   \u001b[0m | \u001b[0m 0.2467  \u001b[0m | \u001b[0m 8.998   \u001b[0m | \u001b[0m 362.4   \u001b[0m |\n",
      "| \u001b[0m 7       \u001b[0m | \u001b[0m-2.094   \u001b[0m | \u001b[0m 0.4456  \u001b[0m | \u001b[0m 8.698   \u001b[0m | \u001b[0m 405.9   \u001b[0m |\n",
      "| \u001b[0m 8       \u001b[0m | \u001b[0m-2.204   \u001b[0m | \u001b[0m 0.2116  \u001b[0m | \u001b[0m 8.719   \u001b[0m | \u001b[0m 283.2   \u001b[0m |\n",
      "| \u001b[0m 9       \u001b[0m | \u001b[0m-2.33    \u001b[0m | \u001b[0m 0.4649  \u001b[0m | \u001b[0m 20.06   \u001b[0m | \u001b[0m 199.8   \u001b[0m |\n",
      "| \u001b[0m 10      \u001b[0m | \u001b[0m-2.135   \u001b[0m | \u001b[0m 0.5114  \u001b[0m | \u001b[0m 15.63   \u001b[0m | \u001b[0m 123.2   \u001b[0m |\n",
      "| \u001b[0m 11      \u001b[0m | \u001b[0m-2.121   \u001b[0m | \u001b[0m 0.196   \u001b[0m | \u001b[0m 6.662   \u001b[0m | \u001b[0m 184.8   \u001b[0m |\n",
      "| \u001b[0m 12      \u001b[0m | \u001b[0m-1.913   \u001b[0m | \u001b[0m 0.7926  \u001b[0m | \u001b[0m 6.263   \u001b[0m | \u001b[0m 587.3   \u001b[0m |\n",
      "| \u001b[0m 13      \u001b[0m | \u001b[0m-2.02    \u001b[0m | \u001b[0m 0.557   \u001b[0m | \u001b[0m 7.644   \u001b[0m | \u001b[0m 580.1   \u001b[0m |\n",
      "| \u001b[95m 14      \u001b[0m | \u001b[95m-1.851   \u001b[0m | \u001b[95m 0.9     \u001b[0m | \u001b[95m 2.0     \u001b[0m | \u001b[95m 197.0   \u001b[0m |\n",
      "| \u001b[0m 15      \u001b[0m | \u001b[0m-1.853   \u001b[0m | \u001b[0m 0.9     \u001b[0m | \u001b[0m 2.728   \u001b[0m | \u001b[0m 167.8   \u001b[0m |\n",
      "| \u001b[0m 16      \u001b[0m | \u001b[0m-2.1     \u001b[0m | \u001b[0m 0.9     \u001b[0m | \u001b[0m 13.05   \u001b[0m | \u001b[0m 167.2   \u001b[0m |\n",
      "| \u001b[0m 17      \u001b[0m | \u001b[0m-1.903   \u001b[0m | \u001b[0m 0.5839  \u001b[0m | \u001b[0m 2.727   \u001b[0m | \u001b[0m 598.5   \u001b[0m |\n",
      "| \u001b[0m 18      \u001b[0m | \u001b[0m-2.314   \u001b[0m | \u001b[0m 0.1862  \u001b[0m | \u001b[0m 15.15   \u001b[0m | \u001b[0m 599.5   \u001b[0m |\n",
      "| \u001b[0m 19      \u001b[0m | \u001b[0m-2.11    \u001b[0m | \u001b[0m 0.1     \u001b[0m | \u001b[0m 2.0     \u001b[0m | \u001b[0m 157.5   \u001b[0m |\n",
      "| \u001b[0m 20      \u001b[0m | \u001b[0m-1.966   \u001b[0m | \u001b[0m 0.3485  \u001b[0m | \u001b[0m 2.756   \u001b[0m | \u001b[0m 206.2   \u001b[0m |\n",
      "| \u001b[0m 21      \u001b[0m | \u001b[0m-2.036   \u001b[0m | \u001b[0m 0.2377  \u001b[0m | \u001b[0m 2.006   \u001b[0m | \u001b[0m 222.0   \u001b[0m |\n",
      "| \u001b[0m 22      \u001b[0m | \u001b[0m-1.857   \u001b[0m | \u001b[0m 0.9     \u001b[0m | \u001b[0m 2.0     \u001b[0m | \u001b[0m 420.8   \u001b[0m |\n",
      "| \u001b[0m 23      \u001b[0m | \u001b[0m-1.999   \u001b[0m | \u001b[0m 0.372   \u001b[0m | \u001b[0m 2.875   \u001b[0m | \u001b[0m 430.7   \u001b[0m |\n",
      "| \u001b[0m 24      \u001b[0m | \u001b[0m-2.071   \u001b[0m | \u001b[0m 0.9     \u001b[0m | \u001b[0m 11.34   \u001b[0m | \u001b[0m 421.9   \u001b[0m |\n",
      "| \u001b[0m 25      \u001b[0m | \u001b[0m-1.858   \u001b[0m | \u001b[0m 0.8976  \u001b[0m | \u001b[0m 2.058   \u001b[0m | \u001b[0m 412.7   \u001b[0m |\n",
      "=============================================================\n",
      "Final result: {'target': -1.8514442734619763, 'params': {'max_features': 0.9, 'min_samples_split': 2.0, 'n_estimators': 196.9926698778067}}\n"
     ]
    }
   ],
   "source": [
    "print(Colours.yellow(\"--- Optimizing Extra Trees ---\"))\n",
    "optimize_etc(X_train, y_train)"
   ]
  },
  {
   "cell_type": "markdown",
   "metadata": {},
   "source": [
    "### Hyperparameter tuning of RandomForestRegressor using Bayesian optimization"
   ]
  },
  {
   "cell_type": "code",
   "execution_count": 20,
   "metadata": {},
   "outputs": [],
   "source": [
    "def rfc_cv(n_estimators, min_samples_split, max_features, data, target):\n",
    "    estimator = RandomForestRegressor(\n",
    "            n_estimators=n_estimators,\n",
    "            min_samples_split=min_samples_split,\n",
    "            max_features=max_features,\n",
    "            random_state=42,\n",
    "            n_jobs=-1\n",
    "    )\n",
    "    cval = cross_val_score(estimator, data, target, scoring=rmse, cv=5)\n",
    "    \n",
    "    return cval.mean()"
   ]
  },
  {
   "cell_type": "code",
   "execution_count": 21,
   "metadata": {},
   "outputs": [],
   "source": [
    "def optimize_rfc(data, target):\n",
    "    def rfc_crossval(n_estimators, min_samples_split, max_features):\n",
    "        return rfc_cv(\n",
    "            n_estimators=int(n_estimators),\n",
    "            min_samples_split=int(min_samples_split),\n",
    "            max_features=max(min(max_features, 0.9), 1e-3),\n",
    "            data=data,\n",
    "            target=target,\n",
    "            )\n",
    "    optimizer = BayesianOptimization(\n",
    "        f=rfc_crossval,\n",
    "        pbounds={\n",
    "            \"n_estimators\":(100,600),\n",
    "            \"min_samples_split\":(2,25),\n",
    "            \"max_features\":(0.1,0.9),\n",
    "        },\n",
    "        random_state=1234,\n",
    "        verbose=2\n",
    "    )\n",
    "    optimizer.maximize(n_iter=20, init_points=10)\n",
    "    \n",
    "    print(\"Final result:\", optimizer.max)"
   ]
  },
  {
   "cell_type": "code",
   "execution_count": 22,
   "metadata": {},
   "outputs": [
    {
     "name": "stdout",
     "output_type": "stream",
     "text": [
      "\u001b[92m--- Optimizing Random Forest ---\u001b[0m\n",
      "|   iter    |  target   | max_fe... | min_sa... | n_esti... |\n",
      "-------------------------------------------------------------\n",
      "| \u001b[0m 1       \u001b[0m | \u001b[0m-2.358   \u001b[0m | \u001b[0m 0.2532  \u001b[0m | \u001b[0m 16.31   \u001b[0m | \u001b[0m 318.9   \u001b[0m |\n",
      "| \u001b[95m 2       \u001b[0m | \u001b[95m-2.322   \u001b[0m | \u001b[95m 0.7283  \u001b[0m | \u001b[95m 19.94   \u001b[0m | \u001b[95m 236.3   \u001b[0m |\n",
      "| \u001b[0m 3       \u001b[0m | \u001b[0m-2.508   \u001b[0m | \u001b[0m 0.3212  \u001b[0m | \u001b[0m 20.44   \u001b[0m | \u001b[0m 579.1   \u001b[0m |\n",
      "| \u001b[95m 4       \u001b[0m | \u001b[95m-2.124   \u001b[0m | \u001b[95m 0.8007  \u001b[0m | \u001b[95m 10.23   \u001b[0m | \u001b[95m 350.5   \u001b[0m |\n",
      "| \u001b[0m 5       \u001b[0m | \u001b[0m-2.283   \u001b[0m | \u001b[0m 0.6468  \u001b[0m | \u001b[0m 18.39   \u001b[0m | \u001b[0m 285.1   \u001b[0m |\n",
      "| \u001b[0m 6       \u001b[0m | \u001b[0m-2.204   \u001b[0m | \u001b[0m 0.549   \u001b[0m | \u001b[0m 13.57   \u001b[0m | \u001b[0m 106.9   \u001b[0m |\n",
      "| \u001b[0m 7       \u001b[0m | \u001b[0m-2.347   \u001b[0m | \u001b[0m 0.7183  \u001b[0m | \u001b[0m 22.3    \u001b[0m | \u001b[0m 282.4   \u001b[0m |\n",
      "| \u001b[95m 8       \u001b[0m | \u001b[95m-1.737   \u001b[0m | \u001b[95m 0.5923  \u001b[0m | \u001b[95m 3.734   \u001b[0m | \u001b[95m 284.4   \u001b[0m |\n",
      "| \u001b[0m 9       \u001b[0m | \u001b[0m-2.269   \u001b[0m | \u001b[0m 0.8465  \u001b[0m | \u001b[0m 16.98   \u001b[0m | \u001b[0m 298.6   \u001b[0m |\n",
      "| \u001b[0m 10      \u001b[0m | \u001b[0m-2.069   \u001b[0m | \u001b[0m 0.731   \u001b[0m | \u001b[0m 9.287   \u001b[0m | \u001b[0m 384.0   \u001b[0m |\n",
      "| \u001b[0m 11      \u001b[0m | \u001b[0m-2.084   \u001b[0m | \u001b[0m 0.1     \u001b[0m | \u001b[0m 2.0     \u001b[0m | \u001b[0m 278.2   \u001b[0m |\n",
      "| \u001b[95m 12      \u001b[0m | \u001b[95m-1.709   \u001b[0m | \u001b[95m 0.7487  \u001b[0m | \u001b[95m 2.324   \u001b[0m | \u001b[95m 288.4   \u001b[0m |\n",
      "| \u001b[0m 13      \u001b[0m | \u001b[0m-2.049   \u001b[0m | \u001b[0m 0.3921  \u001b[0m | \u001b[0m 6.813   \u001b[0m | \u001b[0m 290.2   \u001b[0m |\n",
      "| \u001b[0m 14      \u001b[0m | \u001b[0m-1.815   \u001b[0m | \u001b[0m 0.4716  \u001b[0m | \u001b[0m 2.292   \u001b[0m | \u001b[0m 285.9   \u001b[0m |\n",
      "| \u001b[0m 15      \u001b[0m | \u001b[0m-2.002   \u001b[0m | \u001b[0m 0.591   \u001b[0m | \u001b[0m 7.133   \u001b[0m | \u001b[0m 284.6   \u001b[0m |\n",
      "| \u001b[95m 16      \u001b[0m | \u001b[95m-1.667   \u001b[0m | \u001b[95m 0.9     \u001b[0m | \u001b[95m 2.0     \u001b[0m | \u001b[95m 291.8   \u001b[0m |\n",
      "| \u001b[0m 17      \u001b[0m | \u001b[0m-2.095   \u001b[0m | \u001b[0m 0.1     \u001b[0m | \u001b[0m 2.0     \u001b[0m | \u001b[0m 296.5   \u001b[0m |\n",
      "| \u001b[0m 18      \u001b[0m | \u001b[0m-2.111   \u001b[0m | \u001b[0m 0.6276  \u001b[0m | \u001b[0m 9.605   \u001b[0m | \u001b[0m 395.2   \u001b[0m |\n",
      "| \u001b[0m 19      \u001b[0m | \u001b[0m-2.149   \u001b[0m | \u001b[0m 0.1721  \u001b[0m | \u001b[0m 5.302   \u001b[0m | \u001b[0m 374.0   \u001b[0m |\n",
      "| \u001b[0m 20      \u001b[0m | \u001b[0m-2.092   \u001b[0m | \u001b[0m 0.1087  \u001b[0m | \u001b[0m 2.583   \u001b[0m | \u001b[0m 290.2   \u001b[0m |\n",
      "| \u001b[0m 21      \u001b[0m | \u001b[0m-1.691   \u001b[0m | \u001b[0m 0.8991  \u001b[0m | \u001b[0m 3.873   \u001b[0m | \u001b[0m 286.1   \u001b[0m |\n",
      "| \u001b[0m 22      \u001b[0m | \u001b[0m-1.734   \u001b[0m | \u001b[0m 0.5809  \u001b[0m | \u001b[0m 2.651   \u001b[0m | \u001b[0m 292.8   \u001b[0m |\n",
      "| \u001b[0m 23      \u001b[0m | \u001b[0m-1.755   \u001b[0m | \u001b[0m 0.6255  \u001b[0m | \u001b[0m 2.929   \u001b[0m | \u001b[0m 287.3   \u001b[0m |\n",
      "| \u001b[0m 24      \u001b[0m | \u001b[0m-1.668   \u001b[0m | \u001b[0m 0.9     \u001b[0m | \u001b[0m 2.0     \u001b[0m | \u001b[0m 282.9   \u001b[0m |\n",
      "| \u001b[0m 25      \u001b[0m | \u001b[0m-1.792   \u001b[0m | \u001b[0m 0.5741  \u001b[0m | \u001b[0m 3.541   \u001b[0m | \u001b[0m 282.2   \u001b[0m |\n",
      "| \u001b[0m 26      \u001b[0m | \u001b[0m-2.043   \u001b[0m | \u001b[0m 0.268   \u001b[0m | \u001b[0m 5.363   \u001b[0m | \u001b[0m 287.0   \u001b[0m |\n",
      "| \u001b[0m 27      \u001b[0m | \u001b[0m-1.87    \u001b[0m | \u001b[0m 0.7657  \u001b[0m | \u001b[0m 6.305   \u001b[0m | \u001b[0m 279.7   \u001b[0m |\n",
      "| \u001b[0m 28      \u001b[0m | \u001b[0m-2.137   \u001b[0m | \u001b[0m 0.2829  \u001b[0m | \u001b[0m 9.311   \u001b[0m | \u001b[0m 279.5   \u001b[0m |\n",
      "| \u001b[0m 29      \u001b[0m | \u001b[0m-1.771   \u001b[0m | \u001b[0m 0.9     \u001b[0m | \u001b[0m 5.363   \u001b[0m | \u001b[0m 294.0   \u001b[0m |\n",
      "| \u001b[0m 30      \u001b[0m | \u001b[0m-1.988   \u001b[0m | \u001b[0m 0.9     \u001b[0m | \u001b[0m 7.63    \u001b[0m | \u001b[0m 295.2   \u001b[0m |\n",
      "=============================================================\n",
      "Final result: {'target': -1.6669263628105824, 'params': {'max_features': 0.9, 'min_samples_split': 2.0, 'n_estimators': 291.80230164325997}}\n"
     ]
    }
   ],
   "source": [
    "print(Colours.green(\"--- Optimizing Random Forest ---\"))\n",
    "optimize_rfc(X_train, y_train)"
   ]
  },
  {
   "cell_type": "markdown",
   "metadata": {},
   "source": [
    "### Hyperparameter tuning of ExtremeGradient&RandomForest Regressor using Bayesian optimization"
   ]
  },
  {
   "cell_type": "code",
   "execution_count": 23,
   "metadata": {},
   "outputs": [],
   "source": [
    "def xgb_cv(n_estimators, max_depth, gamma, min_child_weight, subsample, data, targets):\n",
    "    estimator = XGBRFRegressor(\n",
    "        n_estimators=n_estimators,\n",
    "        max_depth = max_depth,\n",
    "        gamma = gamma,\n",
    "        min_child_weight=min_child_weight,\n",
    "        subsample = subsample,\n",
    "        random_state = 2,\n",
    "    )\n",
    "    cval = cross_val_score(estimator, data, targets,\n",
    "                           scoring=rmse, cv=5)\n",
    "    return cval.mean()"
   ]
  },
  {
   "cell_type": "code",
   "execution_count": 24,
   "metadata": {},
   "outputs": [],
   "source": [
    "def optimize_xgbrf(data, targets):\n",
    "    def xgb_crossval(n_estimators, max_depth, gamma, min_child_weight, subsample):\n",
    "        return xgb_cv(\n",
    "            n_estimators=int(n_estimators),\n",
    "            max_depth = int(max_depth),\n",
    "            gamma = gamma,\n",
    "            min_child_weight=min_child_weight,\n",
    "            subsample=subsample,\n",
    "            data=data,\n",
    "            targets=targets,\n",
    "        )\n",
    "\n",
    "    optimizer = BayesianOptimization(\n",
    "        f=xgb_crossval,\n",
    "        pbounds={\n",
    "            \"n_estimators\": (100, 550),\n",
    "            \"max_depth\": (6,15),\n",
    "            \"gamma\": (0,10),\n",
    "            \"min_child_weight\": (0,10),\n",
    "            \"subsample\": (0.8,1.0)\n",
    "        },\n",
    "        random_state=1234,\n",
    "        verbose=2\n",
    "    )\n",
    "    optimizer.maximize(n_iter=15, init_points=10)\n",
    "\n",
    "    print(\"Final result:\", optimizer.max)"
   ]
  },
  {
   "cell_type": "code",
   "execution_count": 25,
   "metadata": {},
   "outputs": [
    {
     "name": "stdout",
     "output_type": "stream",
     "text": [
      "\u001b[91m--- Optimizing XGBoost RandomForest ---\u001b[0m\n",
      "|   iter    |  target   |   gamma   | max_depth | min_ch... | n_esti... | subsample |\n",
      "-------------------------------------------------------------------------------------\n",
      "| \u001b[0m 1       \u001b[0m | \u001b[0m-2.232   \u001b[0m | \u001b[0m 1.915   \u001b[0m | \u001b[0m 11.6    \u001b[0m | \u001b[0m 4.377   \u001b[0m | \u001b[0m 453.4   \u001b[0m | \u001b[0m 0.956   \u001b[0m |\n",
      "| \u001b[0m 2       \u001b[0m | \u001b[0m-2.591   \u001b[0m | \u001b[0m 2.726   \u001b[0m | \u001b[0m 8.488   \u001b[0m | \u001b[0m 8.019   \u001b[0m | \u001b[0m 531.2   \u001b[0m | \u001b[0m 0.9752  \u001b[0m |\n",
      "| \u001b[0m 3       \u001b[0m | \u001b[0m-2.397   \u001b[0m | \u001b[0m 3.578   \u001b[0m | \u001b[0m 10.51   \u001b[0m | \u001b[0m 6.835   \u001b[0m | \u001b[0m 420.7   \u001b[0m | \u001b[0m 0.8741  \u001b[0m |\n",
      "| \u001b[95m 4       \u001b[0m | \u001b[95m-1.737   \u001b[0m | \u001b[95m 5.612   \u001b[0m | \u001b[95m 10.53   \u001b[0m | \u001b[95m 0.1377  \u001b[0m | \u001b[95m 447.8   \u001b[0m | \u001b[95m 0.9765  \u001b[0m |\n",
      "| \u001b[95m 5       \u001b[0m | \u001b[95m-1.725   \u001b[0m | \u001b[95m 3.649   \u001b[0m | \u001b[95m 11.54   \u001b[0m | \u001b[95m 0.7538  \u001b[0m | \u001b[95m 266.0   \u001b[0m | \u001b[95m 0.9866  \u001b[0m |\n",
      "| \u001b[0m 6       \u001b[0m | \u001b[0m-2.494   \u001b[0m | \u001b[0m 6.514   \u001b[0m | \u001b[0m 9.575   \u001b[0m | \u001b[0m 7.887   \u001b[0m | \u001b[0m 242.6   \u001b[0m | \u001b[0m 0.9136  \u001b[0m |\n",
      "| \u001b[0m 7       \u001b[0m | \u001b[0m-2.557   \u001b[0m | \u001b[0m 8.691   \u001b[0m | \u001b[0m 9.926   \u001b[0m | \u001b[0m 8.021   \u001b[0m | \u001b[0m 164.7   \u001b[0m | \u001b[0m 0.9409  \u001b[0m |\n",
      "| \u001b[0m 8       \u001b[0m | \u001b[0m-2.6     \u001b[0m | \u001b[0m 7.046   \u001b[0m | \u001b[0m 7.969   \u001b[0m | \u001b[0m 9.249   \u001b[0m | \u001b[0m 299.0   \u001b[0m | \u001b[0m 0.9819  \u001b[0m |\n",
      "| \u001b[95m 9       \u001b[0m | \u001b[95m-1.636   \u001b[0m | \u001b[95m 0.5981  \u001b[0m | \u001b[95m 7.659   \u001b[0m | \u001b[95m 0.4736  \u001b[0m | \u001b[95m 403.7   \u001b[0m | \u001b[95m 0.9189  \u001b[0m |\n",
      "| \u001b[0m 10      \u001b[0m | \u001b[0m-2.295   \u001b[0m | \u001b[0m 5.333   \u001b[0m | \u001b[0m 6.39    \u001b[0m | \u001b[0m 5.614   \u001b[0m | \u001b[0m 248.4   \u001b[0m | \u001b[0m 0.9006  \u001b[0m |\n",
      "| \u001b[0m 11      \u001b[0m | \u001b[0m-1.701   \u001b[0m | \u001b[0m 3.428   \u001b[0m | \u001b[0m 12.41   \u001b[0m | \u001b[0m 0.5975  \u001b[0m | \u001b[0m 266.4   \u001b[0m | \u001b[0m 0.9489  \u001b[0m |\n",
      "| \u001b[0m 12      \u001b[0m | \u001b[0m-1.707   \u001b[0m | \u001b[0m 0.0     \u001b[0m | \u001b[0m 6.198   \u001b[0m | \u001b[0m 0.0     \u001b[0m | \u001b[0m 394.9   \u001b[0m | \u001b[0m 0.9407  \u001b[0m |\n",
      "| \u001b[0m 13      \u001b[0m | \u001b[0m-1.716   \u001b[0m | \u001b[0m 7.671   \u001b[0m | \u001b[0m 15.0    \u001b[0m | \u001b[0m 0.0     \u001b[0m | \u001b[0m 398.3   \u001b[0m | \u001b[0m 0.807   \u001b[0m |\n",
      "| \u001b[0m 14      \u001b[0m | \u001b[0m-2.426   \u001b[0m | \u001b[0m 0.0     \u001b[0m | \u001b[0m 13.94   \u001b[0m | \u001b[0m 10.0    \u001b[0m | \u001b[0m 397.4   \u001b[0m | \u001b[0m 0.8     \u001b[0m |\n",
      "| \u001b[0m 15      \u001b[0m | \u001b[0m-1.817   \u001b[0m | \u001b[0m 9.69    \u001b[0m | \u001b[0m 6.0     \u001b[0m | \u001b[0m 0.0     \u001b[0m | \u001b[0m 400.5   \u001b[0m | \u001b[0m 1.0     \u001b[0m |\n",
      "| \u001b[0m 16      \u001b[0m | \u001b[0m-1.821   \u001b[0m | \u001b[0m 10.0    \u001b[0m | \u001b[0m 15.0    \u001b[0m | \u001b[0m 0.0     \u001b[0m | \u001b[0m 440.0   \u001b[0m | \u001b[0m 1.0     \u001b[0m |\n",
      "| \u001b[0m 17      \u001b[0m | \u001b[0m-2.493   \u001b[0m | \u001b[0m 2.271   \u001b[0m | \u001b[0m 14.88   \u001b[0m | \u001b[0m 9.684   \u001b[0m | \u001b[0m 271.8   \u001b[0m | \u001b[0m 0.89    \u001b[0m |\n",
      "| \u001b[0m 18      \u001b[0m | \u001b[0m-1.678   \u001b[0m | \u001b[0m 3.209   \u001b[0m | \u001b[0m 6.973   \u001b[0m | \u001b[0m 0.7244  \u001b[0m | \u001b[0m 439.7   \u001b[0m | \u001b[0m 0.802   \u001b[0m |\n",
      "| \u001b[0m 19      \u001b[0m | \u001b[0m-2.49    \u001b[0m | \u001b[0m 9.323   \u001b[0m | \u001b[0m 6.71    \u001b[0m | \u001b[0m 8.899   \u001b[0m | \u001b[0m 442.9   \u001b[0m | \u001b[0m 0.8351  \u001b[0m |\n",
      "| \u001b[0m 20      \u001b[0m | \u001b[0m-1.781   \u001b[0m | \u001b[0m 6.442   \u001b[0m | \u001b[0m 13.64   \u001b[0m | \u001b[0m 0.0     \u001b[0m | \u001b[0m 406.6   \u001b[0m | \u001b[0m 1.0     \u001b[0m |\n",
      "| \u001b[0m 21      \u001b[0m | \u001b[0m-1.689   \u001b[0m | \u001b[0m 0.0     \u001b[0m | \u001b[0m 14.94   \u001b[0m | \u001b[0m 0.0     \u001b[0m | \u001b[0m 440.9   \u001b[0m | \u001b[0m 1.0     \u001b[0m |\n",
      "| \u001b[0m 22      \u001b[0m | \u001b[0m-1.819   \u001b[0m | \u001b[0m 10.0    \u001b[0m | \u001b[0m 8.942   \u001b[0m | \u001b[0m 0.0     \u001b[0m | \u001b[0m 386.1   \u001b[0m | \u001b[0m 1.0     \u001b[0m |\n",
      "| \u001b[95m 23      \u001b[0m | \u001b[95m-1.605   \u001b[0m | \u001b[95m 0.0     \u001b[0m | \u001b[95m 15.0    \u001b[0m | \u001b[95m 0.0     \u001b[0m | \u001b[95m 259.0   \u001b[0m | \u001b[95m 0.8     \u001b[0m |\n",
      "| \u001b[0m 24      \u001b[0m | \u001b[0m-1.726   \u001b[0m | \u001b[0m 2.146   \u001b[0m | \u001b[0m 6.886   \u001b[0m | \u001b[0m 0.7287  \u001b[0m | \u001b[0m 370.4   \u001b[0m | \u001b[0m 0.9533  \u001b[0m |\n",
      "| \u001b[0m 25      \u001b[0m | \u001b[0m-1.732   \u001b[0m | \u001b[0m 10.0    \u001b[0m | \u001b[0m 15.0    \u001b[0m | \u001b[0m 0.0     \u001b[0m | \u001b[0m 363.4   \u001b[0m | \u001b[0m 0.8     \u001b[0m |\n",
      "=====================================================================================\n",
      "Final result: {'target': -1.6054487952487257, 'params': {'gamma': 0.0, 'max_depth': 15.0, 'min_child_weight': 0.0, 'n_estimators': 259.027424023273, 'subsample': 0.8}}\n"
     ]
    }
   ],
   "source": [
    "print(Colours.red(\"--- Optimizing XGBoost RandomForest ---\"))\n",
    "optimize_xgbrf(X_train,y_train)"
   ]
  },
  {
   "cell_type": "code",
   "execution_count": 36,
   "metadata": {},
   "outputs": [],
   "source": [
    "xgb = XGBRegressor(n_estimators = int(402.578338283996),\n",
    "                  subsample=0.8668825905278301,\n",
    "                  min_child_weight=0.09168578683501405,\n",
    "                  max_depth=int(4.854619123092183),\n",
    "                  gamma=0.4168039906207077,\n",
    "                  n_jobs = -1, \n",
    "                  random_state = 42)\n",
    "\n",
    "etc = ExtraTreesRegressor(n_estimators = int(196.9926698778067),\n",
    "                  min_samples_split=2,\n",
    "                  max_features=0.9, \n",
    "                  random_state = 42)\n",
    "\n",
    "rfc = RandomForestRegressor(n_estimators = int(291.80230164325997),\n",
    "                  min_samples_split=2,\n",
    "                  max_features=0.9, \n",
    "                  random_state = 42)\n",
    "\n",
    "xgrf= XGBRFRegressor(n_estimators = int(259.027424023273),\n",
    "                  subsample=0.8,\n",
    "                  min_child_weight=0.0,\n",
    "                  max_depth=int(15.0),\n",
    "                  gamma=0.0,\n",
    "                  n_jobs = -1, \n",
    "                  random_state = 42)"
   ]
  },
  {
   "cell_type": "markdown",
   "metadata": {},
   "source": [
    "### Stacking Regressor"
   ]
  },
  {
   "cell_type": "code",
   "execution_count": 37,
   "metadata": {},
   "outputs": [],
   "source": [
    "from sklearn.ensemble import StackingRegressor\n",
    "estimators = [('etc', etc), ('rfc', rfc), ('xgb', xgb),('xgbrf', xgrf)]\n",
    "\n",
    "model = StackingRegressor(estimators=estimators)"
   ]
  },
  {
   "cell_type": "code",
   "execution_count": 38,
   "metadata": {},
   "outputs": [
    {
     "data": {
      "text/plain": [
       "array([-1.42909013, -2.74459191, -1.16165328, -1.74715778, -1.24085391])"
      ]
     },
     "execution_count": 38,
     "metadata": {},
     "output_type": "execute_result"
    }
   ],
   "source": [
    "scores = cross_val_score(model, X_train, y_train, cv = 5, scoring = rmse)\n",
    "\n",
    "scores"
   ]
  },
  {
   "cell_type": "code",
   "execution_count": 39,
   "metadata": {},
   "outputs": [
    {
     "data": {
      "text/plain": [
       "-1.6646694010491299"
      ]
     },
     "execution_count": 39,
     "metadata": {},
     "output_type": "execute_result"
    }
   ],
   "source": [
    "scores.mean()"
   ]
  },
  {
   "cell_type": "markdown",
   "metadata": {},
   "source": [
    "### Among accuracies of all the models XGBoost Regressor gives the minimum 'root_mean_squared_error'\n",
    "\n",
    "### Now Checking the model performance by plotting the learning_curve"
   ]
  },
  {
   "cell_type": "code",
   "execution_count": 40,
   "metadata": {},
   "outputs": [],
   "source": [
    "from sklearn.model_selection import learning_curve"
   ]
  },
  {
   "cell_type": "code",
   "execution_count": 41,
   "metadata": {},
   "outputs": [],
   "source": [
    "train_sizes, train_scores, valid_scores = learning_curve(\n",
    "xgb , X_train, y_train, train_sizes=np.linspace(0.01, 1.0, 10), scoring=rmse, cv=5)"
   ]
  },
  {
   "cell_type": "code",
   "execution_count": 42,
   "metadata": {},
   "outputs": [
    {
     "name": "stdout",
     "output_type": "stream",
     "text": [
      "Mean training scores\n",
      "\n",
      " 1      4.768372e-08\n",
      "23     2.672519e-01\n",
      "44     2.393551e-01\n",
      "65     2.310575e-01\n",
      "86     2.222889e-01\n",
      "107    2.201654e-01\n",
      "128    2.342560e-01\n",
      "149    2.290676e-01\n",
      "170    2.278867e-01\n",
      "192    2.302784e-01\n",
      "dtype: float64\n",
      "\n",
      " --------------------\n",
      "\n",
      "Mean valid scores\n",
      "\n",
      " 1      6.681067\n",
      "23     2.521450\n",
      "44     2.125791\n",
      "65     1.758323\n",
      "86     1.877908\n",
      "107    1.861466\n",
      "128    1.689428\n",
      "149    1.593622\n",
      "170    1.457631\n",
      "192    1.399777\n",
      "dtype: float64\n"
     ]
    }
   ],
   "source": [
    "train_scores_mean = -train_scores.mean(axis = 1)\n",
    "valid_scores_mean = -valid_scores.mean(axis = 1)\n",
    "print('Mean training scores\\n\\n', pd.Series(train_scores_mean, index = train_sizes))\n",
    "print('\\n', '-' * 20) # separator\n",
    "print('\\nMean valid scores\\n\\n',pd.Series(valid_scores_mean, index = train_sizes))"
   ]
  },
  {
   "cell_type": "code",
   "execution_count": 43,
   "metadata": {},
   "outputs": [
    {
     "data": {
      "text/plain": [
       "<matplotlib.legend.Legend at 0x2061b135408>"
      ]
     },
     "execution_count": 43,
     "metadata": {},
     "output_type": "execute_result"
    },
    {
     "data": {
      "image/png": "[encoded data removed]",
      "text/plain": [
       "<Figure size 576x396 with 1 Axes>"
      ]
     },
     "metadata": {},
     "output_type": "display_data"
    }
   ],
   "source": [
    "plt.style.use('seaborn')\n",
    "plt.plot(train_sizes, train_scores_mean, label = 'Training error')\n",
    "plt.plot(train_sizes, valid_scores_mean, label = 'Validation error')\n",
    "plt.ylabel('RMSE', fontsize = 14)\n",
    "plt.xlabel('Training set size', fontsize = 14)\n",
    "plt.title('Learning curves for regression model', fontsize = 18, y = 1.03)\n",
    "plt.legend()"
   ]
  },
  {
   "cell_type": "markdown",
   "metadata": {},
   "source": [
    "### Limiting the Number of Rows where minimum error has been achieved"
   ]
  },
  {
   "cell_type": "code",
   "execution_count": 51,
   "metadata": {},
   "outputs": [
    {
     "data": {
      "text/html": [
       "<div>\n",
       "<style scoped>\n",
       "    .dataframe tbody tr th:only-of-type {\n",
       "        vertical-align: middle;\n",
       "    }\n",
       "\n",
       "    .dataframe tbody tr th {\n",
       "        vertical-align: top;\n",
       "    }\n",
       "\n",
       "    .dataframe thead th {\n",
       "        text-align: right;\n",
       "    }\n",
       "</style>\n",
       "<table border=\"1\" class=\"dataframe\">\n",
       "  <thead>\n",
       "    <tr style=\"text-align: right;\">\n",
       "      <th></th>\n",
       "      <th>Car_Name</th>\n",
       "      <th>Year</th>\n",
       "      <th>Selling_Price</th>\n",
       "      <th>Present_Price</th>\n",
       "      <th>Kms_Driven</th>\n",
       "      <th>Owner</th>\n",
       "      <th>Automatic</th>\n",
       "      <th>CNG</th>\n",
       "      <th>Dealer</th>\n",
       "      <th>Diesel</th>\n",
       "      <th>Individual</th>\n",
       "      <th>Manual</th>\n",
       "      <th>Petrol</th>\n",
       "    </tr>\n",
       "  </thead>\n",
       "  <tbody>\n",
       "    <tr>\n",
       "      <th>188</th>\n",
       "      <td>21</td>\n",
       "      <td>10</td>\n",
       "      <td>0.25</td>\n",
       "      <td>0.57</td>\n",
       "      <td>134.164079</td>\n",
       "      <td>0</td>\n",
       "      <td>0</td>\n",
       "      <td>0</td>\n",
       "      <td>0</td>\n",
       "      <td>0</td>\n",
       "      <td>1</td>\n",
       "      <td>1</td>\n",
       "      <td>1</td>\n",
       "    </tr>\n",
       "    <tr>\n",
       "      <th>189</th>\n",
       "      <td>29</td>\n",
       "      <td>2</td>\n",
       "      <td>0.20</td>\n",
       "      <td>0.57</td>\n",
       "      <td>234.520788</td>\n",
       "      <td>0</td>\n",
       "      <td>0</td>\n",
       "      <td>0</td>\n",
       "      <td>0</td>\n",
       "      <td>0</td>\n",
       "      <td>1</td>\n",
       "      <td>1</td>\n",
       "      <td>1</td>\n",
       "    </tr>\n",
       "    <tr>\n",
       "      <th>190</th>\n",
       "      <td>14</td>\n",
       "      <td>5</td>\n",
       "      <td>0.20</td>\n",
       "      <td>0.75</td>\n",
       "      <td>244.948974</td>\n",
       "      <td>0</td>\n",
       "      <td>0</td>\n",
       "      <td>0</td>\n",
       "      <td>0</td>\n",
       "      <td>0</td>\n",
       "      <td>1</td>\n",
       "      <td>1</td>\n",
       "      <td>1</td>\n",
       "    </tr>\n",
       "    <tr>\n",
       "      <th>191</th>\n",
       "      <td>10</td>\n",
       "      <td>9</td>\n",
       "      <td>0.20</td>\n",
       "      <td>0.57</td>\n",
       "      <td>158.113883</td>\n",
       "      <td>1</td>\n",
       "      <td>0</td>\n",
       "      <td>0</td>\n",
       "      <td>0</td>\n",
       "      <td>0</td>\n",
       "      <td>1</td>\n",
       "      <td>1</td>\n",
       "      <td>1</td>\n",
       "    </tr>\n",
       "    <tr>\n",
       "      <th>192</th>\n",
       "      <td>24</td>\n",
       "      <td>4</td>\n",
       "      <td>0.20</td>\n",
       "      <td>0.75</td>\n",
       "      <td>221.359436</td>\n",
       "      <td>1</td>\n",
       "      <td>0</td>\n",
       "      <td>0</td>\n",
       "      <td>0</td>\n",
       "      <td>0</td>\n",
       "      <td>1</td>\n",
       "      <td>1</td>\n",
       "      <td>1</td>\n",
       "    </tr>\n",
       "  </tbody>\n",
       "</table>\n",
       "</div>"
      ],
      "text/plain": [
       "     Car_Name  Year  Selling_Price  Present_Price  Kms_Driven  Owner  \\\n",
       "188        21    10           0.25           0.57  134.164079      0   \n",
       "189        29     2           0.20           0.57  234.520788      0   \n",
       "190        14     5           0.20           0.75  244.948974      0   \n",
       "191        10     9           0.20           0.57  158.113883      1   \n",
       "192        24     4           0.20           0.75  221.359436      1   \n",
       "\n",
       "     Automatic  CNG  Dealer  Diesel  Individual  Manual  Petrol  \n",
       "188          0    0       0       0           1       1       1  \n",
       "189          0    0       0       0           1       1       1  \n",
       "190          0    0       0       0           1       1       1  \n",
       "191          0    0       0       0           1       1       1  \n",
       "192          0    0       0       0           1       1       1  "
      ]
     },
     "execution_count": 51,
     "metadata": {},
     "output_type": "execute_result"
    }
   ],
   "source": [
    "train = df2.iloc[:193,:]\n",
    "test  = df2.iloc[193:,:]\n",
    "train.tail()"
   ]
  },
  {
   "cell_type": "code",
   "execution_count": 52,
   "metadata": {},
   "outputs": [],
   "source": [
    "y1 = train['Selling_Price'].values\n",
    "d1 = train.drop(columns=['Selling_Price'])\n",
    "x1 = d1.values\n",
    "y2 = test['Selling_Price'].values\n",
    "d2 = test.drop(columns=['Selling_Price'])\n",
    "x2 = d2.values"
   ]
  },
  {
   "cell_type": "markdown",
   "metadata": {},
   "source": [
    "### Fitting the Model & Predicting the Values "
   ]
  },
  {
   "cell_type": "code",
   "execution_count": 53,
   "metadata": {},
   "outputs": [],
   "source": [
    "model = xgb.fit(x1,y1)"
   ]
  },
  {
   "cell_type": "markdown",
   "metadata": {},
   "source": [
    "### Calculating metric score to know my model performance on an unseen data"
   ]
  },
  {
   "cell_type": "code",
   "execution_count": 54,
   "metadata": {},
   "outputs": [
    {
     "data": {
      "text/plain": [
       "0.8475974137708194"
      ]
     },
     "execution_count": 54,
     "metadata": {},
     "output_type": "execute_result"
    }
   ],
   "source": [
    "y_pred = model.predict(x2)\n",
    "r2_score(y2,y_pred)"
   ]
  },
  {
   "cell_type": "code",
   "execution_count": 56,
   "metadata": {},
   "outputs": [
    {
     "data": {
      "text/plain": [
       "1.1159696083904613"
      ]
     },
     "execution_count": 56,
     "metadata": {},
     "output_type": "execute_result"
    }
   ],
   "source": [
    "RMSE(y2,y_pred)"
   ]
  }
 ],
 "metadata": {
  "kernelspec": {
   "display_name": "Python 3",
   "language": "python",
   "name": "python3"
  },
  "language_info": {
   "codemirror_mode": {
    "name": "ipython",
    "version": 3
   },
   "file_extension": ".py",
   "mimetype": "text/x-python",
   "name": "python",
   "nbconvert_exporter": "python",
   "pygments_lexer": "ipython3",
   "version": "3.7.6"
  }
 },
 "nbformat": 4,
 "nbformat_minor": 4
}
